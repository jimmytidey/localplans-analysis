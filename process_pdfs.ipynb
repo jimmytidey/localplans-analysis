{
 "cells": [
  {
   "cell_type": "code",
   "execution_count": 3,
   "metadata": {},
   "outputs": [
    {
     "name": "stdout",
     "output_type": "stream",
     "text": [
      "Processing Arun_District_Council.pdf\n"
     ]
    }
   ],
   "source": [
    "from helpers import pdf_to_chunks, embed_send_to_db, list_files\n",
    "import os\n",
    "import shutil\n",
    "import pandas as pd\n",
    "\n",
    "source_path = file_path = os.path.join(\"data\", \"files_before_processing\")\n",
    "destination_path = file_path = os.path.join(\"data\", \"files_post_processing\")\n",
    "\n",
    "# set metadata for every file in the source folder (will be overwritten by the CSV if a match is found)\n",
    "metadata_global = {\"type\": \"localplan\"}\n",
    "\n",
    "# get metadata per file from the CSV\n",
    "file_path = os.path.join(\"data\", \"metadata.csv\")\n",
    "if os.path.exists(file_path):\n",
    "    metadata_csv_exists = True\n",
    "    metadata_df = pd.read_csv(file_path)\n",
    "else:\n",
    "    metadata_csv_exists = False\n",
    "\n",
    "# start processing the pdfs\n",
    "pdfs = list_files(source_path)\n",
    "\n",
    "for pdf in pdfs:\n",
    "    print(f\"Processing {pdf}\")\n",
    "\n",
    "    pdf_path = os.path.join(source_path, pdf)\n",
    "    try:\n",
    "        chunks = pdf_to_chunks(pdf_path)\n",
    "\n",
    "        if metadata_csv_exists:\n",
    "            pdf_metadata = metadata_df.loc[metadata_df[\"filename\"] == pdf].to_dict(\n",
    "                orient=\"records\"\n",
    "            )[0]\n",
    "\n",
    "            metadata = metadata_global | pdf_metadata\n",
    "\n",
    "        else:\n",
    "            metadata = metadata_global\n",
    "        print(metadata)\n",
    "\n",
    "        embed_send_to_db(chunks, pdf, metadata)\n",
    "\n",
    "        print(\"*** COMPLETE ***\")\n",
    "\n",
    "        shutil.move(\n",
    "            f\"data/files_before_processing/{pdf}\", f\"data/files_post_processing/\")\n",
    "    except Exception as e:\n",
    "        shutil.move(\n",
    "            f\"data/files_before_processing/{pdf}\", f\"data/files_failed_processing/\")\n",
    "        print(f\"Error processing {pdf}: {e}\")\n",
    "        continue"
   ]
  }
 ],
 "metadata": {
  "kernelspec": {
   "display_name": "venv",
   "language": "python",
   "name": "python3"
  },
  "language_info": {
   "codemirror_mode": {
    "name": "ipython",
    "version": 3
   },
   "file_extension": ".py",
   "mimetype": "text/x-python",
   "name": "python",
   "nbconvert_exporter": "python",
   "pygments_lexer": "ipython3",
   "version": "3.11.2"
  }
 },
 "nbformat": 4,
 "nbformat_minor": 2
}
